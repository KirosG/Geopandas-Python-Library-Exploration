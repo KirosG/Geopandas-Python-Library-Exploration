{
 "cells": [
  {
   "cell_type": "markdown",
   "metadata": {},
   "source": [
    "# Geopandas and Python\n",
    "--------------------\n",
    "http://geopandas.org/\n",
    "GeoPandas is an open source project to make working with geospatial data in python easier. GeoPandas extends the datatypes used by pandas to allow spatial operations on geometric types. Geometric operations are performed by shapely. Geopandas further depends on fiona for file access and descartes and matplotlib for plotting.\n",
    "\n",
    "The goal of GeoPandas is to make working with geospatial data in python easier. It combines the capabilities of pandas and shapely, providing geospatial operations in pandas and a high-level interface to multiple geometries to shapely. GeoPandas enables you to easily do operations in python that would otherwise require a spatial database such as PostGIS.\n",
    "\n",
    "How to install geopandas: http://geopandas.org/install.html#installing-geopandas\n",
    "\n",
    "## Dependencies\n",
    "Installation via conda should also install all dependencies, but a complete list is as follows:\n",
    "* numpy - Fundamental package for scientific computing with Python http://www.numpy.org/\n",
    "* pandas (version 0.15.2 or later) - High-performance, easy-to-use data structures and data analysis tools http://pandas.pydata.org/\n",
    "* shapely - Python package for manipulation and analysis of planar geometric objects (based on widely deployed GEOS) https://pypi.python.org/pypi/Shapely\n",
    "* fiona - Reading and writing spatial data (alternative for geopandas) https://pypi.python.org/pypi/Fiona/1.7.9.post1\n",
    "* six - provides utility functions for compatiblity on both Python versions https://pypi.python.org/pypi/six\n",
    "* pyproj - Performs cartographic transformations and geodetic computations https://pypi.python.org/pypi/pyproj\n",
    "\n",
    "Further, optional dependencies are:\n",
    "* geopy 0.99 (optional; for geocoding) -  Geocoding library: coordinates to address <-> address to coordinates. https://pypi.python.org/pypi/geopy/0.99\n",
    "* psycopg2 (optional; for PostGIS connection) https://pypi.python.org/pypi/psycopg2\n",
    "* rtree (optional; spatial index to improve performance) https://pypi.python.org/pypi/Rtree/\n",
    "\n",
    "## Plotting Packages\n",
    "* matplotlib - 2D plotting library which produces publication quality figures in a variety of hardcopy formats and interactive environments https://matplotlib.org/\n",
    "* descartes - Use geometric objects as matplotlib paths and patches https://pypi.python.org/pypi/descartes\n",
    "* pysal - library of spatial analysis functions to support the development of high level applications http://pysal.readthedocs.io/en/latest/\n",
    "* shapely - manipulation of geometrict shapes https://pypi.python.org/pypi/Shapely\n",
    "* bokeh - interactive mapping https://bokeh.pydata.org/en/latest/\n",
    "\n",
    "There was one absolutely amazing site with lessons from the University of Helsinki on GeoPandas, much of which was adopted and modified for this notebook.  Take a look at https://automating-gis-processes.github.io/2016/index.html for a more detailed walk through."
   ]
  },
  {
   "cell_type": "code",
   "execution_count": 1,
   "metadata": {
    "collapsed": true
   },
   "outputs": [],
   "source": [
    "%matplotlib inline\n",
    "import geopandas as gpd\n",
    "import pandas as pd\n",
    "\n",
    "# Visualisation\n",
    "import matplotlib \n",
    "import matplotlib.pyplot as plt\n",
    "import matplotlib.pylab as pylab"
   ]
  },
  {
   "cell_type": "markdown",
   "metadata": {},
   "source": [
    "Importing Shapefiles\n",
    "---------------\n",
    "Shapefiles are a common Geographic Information System (GIS) file type used throughout the industry. Shapefiles are technically made of several files.\n",
    "\n",
    "Mandatory files \n",
    "* .shp — shape format; the feature geometry itself\n",
    "* .shx — shape index format; a positional index of the feature geometry to allow seeking forwards and backwards quickly\n",
    "* .dbf — attribute format; columnar attributes for each shape, in dBase IV format\n",
    "\n",
    "To import a shapefile you can use the following:"
   ]
  },
  {
   "cell_type": "code",
   "execution_count": 2,
   "metadata": {
    "collapsed": true
   },
   "outputs": [],
   "source": [
    "pntHistMark = gpd.read_file('VT_Roadside_Historic_Markers.shp')"
   ]
  },
  {
   "cell_type": "markdown",
   "metadata": {},
   "source": [
    "Because shapefiles can be large, downloads are usually zipped up. In order to conserve space and not have all those subfiles showing up, you can actually import it directly from a zip. VFS stands for Virtual File System which is an abstraction layer on top of a more concrete file system. The purpose of a VFS is to allow client applications to access different types of concrete file systems in a uniform way."
   ]
  },
  {
   "cell_type": "code",
   "execution_count": 3,
   "metadata": {
    "collapsed": true
   },
   "outputs": [],
   "source": [
    "vctCntyBound = gpd.read_file('/VT_Boundaries__RPC_polygons.shp', vfs='zip://VT_Boundaries__RPC_polygons.zip')"
   ]
  },
  {
   "cell_type": "markdown",
   "metadata": {},
   "source": [
    "Saving a File\n",
    "-------\n",
    "Like in Pandas, it is not hard to save to a shapefile.  Adjust the name and location to best fit your case and see what happens."
   ]
  },
  {
   "cell_type": "code",
   "execution_count": 4,
   "metadata": {
    "collapsed": true
   },
   "outputs": [],
   "source": [
    "# Select first 50 rows\n",
    "selection = pntHistMark[0:50]\n",
    "\n",
    "# Write those rows into a new Shapefile\n",
    "#Change the filename to the correct path, unlik the read_file my Windows computer required the complete path\n",
    "selection.to_file(driver='ESRI Shapefile',filename=r'C:/Users/kendall.fortney/Desktop/PythonGIS/VTHistoric_Markers_Redone.shp')"
   ]
  },
  {
   "cell_type": "markdown",
   "metadata": {},
   "source": [
    "## Pandas\n",
    "\n",
    "Like Pandas, Geopandas contains all the functionality that can be applied to non-GIS dataframes. Most of the functions used in Numpy and Pandas can be applied here to non-geometry columns"
   ]
  },
  {
   "cell_type": "code",
   "execution_count": 5,
   "metadata": {},
   "outputs": [
    {
     "data": {
      "text/html": [
       "<div>\n",
       "<style>\n",
       "    .dataframe thead tr:only-child th {\n",
       "        text-align: right;\n",
       "    }\n",
       "\n",
       "    .dataframe thead th {\n",
       "        text-align: left;\n",
       "    }\n",
       "\n",
       "    .dataframe tbody tr th {\n",
       "        vertical-align: top;\n",
       "    }\n",
       "</style>\n",
       "<table border=\"1\" class=\"dataframe\">\n",
       "  <thead>\n",
       "    <tr style=\"text-align: right;\">\n",
       "      <th></th>\n",
       "      <th>OBJECTID</th>\n",
       "      <th>RPC</th>\n",
       "      <th>INITIALS</th>\n",
       "      <th>SHORTNAME</th>\n",
       "      <th>LONGNAME</th>\n",
       "      <th>ShapeSTAre</th>\n",
       "      <th>ShapeSTLen</th>\n",
       "      <th>geometry</th>\n",
       "    </tr>\n",
       "  </thead>\n",
       "  <tbody>\n",
       "    <tr>\n",
       "      <th>0</th>\n",
       "      <td>1</td>\n",
       "      <td>CC</td>\n",
       "      <td>CCRPC</td>\n",
       "      <td>Chittenden County RPC</td>\n",
       "      <td>Chittenden County Regional Planning Commission</td>\n",
       "      <td>1.609237e+09</td>\n",
       "      <td>201814.709240</td>\n",
       "      <td>POLYGON ((452203.9672731007 241948.2255608736,...</td>\n",
       "    </tr>\n",
       "    <tr>\n",
       "      <th>1</th>\n",
       "      <td>2</td>\n",
       "      <td>SW</td>\n",
       "      <td>SWCRPC</td>\n",
       "      <td>Southern Windsor County RPC</td>\n",
       "      <td>Southern Windsor County Regional Planning Comm...</td>\n",
       "      <td>8.908414e+08</td>\n",
       "      <td>128848.691548</td>\n",
       "      <td>POLYGON ((497499.9973051278 114802.4954725726,...</td>\n",
       "    </tr>\n",
       "    <tr>\n",
       "      <th>2</th>\n",
       "      <td>3</td>\n",
       "      <td>BC</td>\n",
       "      <td>BCRC</td>\n",
       "      <td>Bennington County RC</td>\n",
       "      <td>Bennington County Regional Commission</td>\n",
       "      <td>1.488553e+09</td>\n",
       "      <td>203533.897896</td>\n",
       "      <td>POLYGON ((451638.0272736274 89835.76545525473,...</td>\n",
       "    </tr>\n",
       "  </tbody>\n",
       "</table>\n",
       "</div>"
      ],
      "text/plain": [
       "   OBJECTID RPC INITIALS                    SHORTNAME  \\\n",
       "0         1  CC    CCRPC        Chittenden County RPC   \n",
       "1         2  SW   SWCRPC  Southern Windsor County RPC   \n",
       "2         3  BC     BCRC         Bennington County RC   \n",
       "\n",
       "                                            LONGNAME    ShapeSTAre  \\\n",
       "0     Chittenden County Regional Planning Commission  1.609237e+09   \n",
       "1  Southern Windsor County Regional Planning Comm...  8.908414e+08   \n",
       "2              Bennington County Regional Commission  1.488553e+09   \n",
       "\n",
       "      ShapeSTLen                                           geometry  \n",
       "0  201814.709240  POLYGON ((452203.9672731007 241948.2255608736,...  \n",
       "1  128848.691548  POLYGON ((497499.9973051278 114802.4954725726,...  \n",
       "2  203533.897896  POLYGON ((451638.0272736274 89835.76545525473,...  "
      ]
     },
     "execution_count": 5,
     "metadata": {},
     "output_type": "execute_result"
    }
   ],
   "source": [
    "vctCntyBound.head(3)"
   ]
  },
  {
   "cell_type": "code",
   "execution_count": 6,
   "metadata": {},
   "outputs": [
    {
     "data": {
      "text/html": [
       "<div>\n",
       "<style>\n",
       "    .dataframe thead tr:only-child th {\n",
       "        text-align: right;\n",
       "    }\n",
       "\n",
       "    .dataframe thead th {\n",
       "        text-align: left;\n",
       "    }\n",
       "\n",
       "    .dataframe tbody tr th {\n",
       "        vertical-align: top;\n",
       "    }\n",
       "</style>\n",
       "<table border=\"1\" class=\"dataframe\">\n",
       "  <thead>\n",
       "    <tr style=\"text-align: right;\">\n",
       "      <th></th>\n",
       "      <th>OBJECTID</th>\n",
       "      <th>name</th>\n",
       "      <th>descriptio</th>\n",
       "      <th>website</th>\n",
       "      <th>town</th>\n",
       "      <th>county</th>\n",
       "      <th>address</th>\n",
       "      <th>video_url</th>\n",
       "      <th>coordinate</th>\n",
       "      <th>coordina_1</th>\n",
       "      <th>Organizati</th>\n",
       "      <th>YearCast</th>\n",
       "      <th>FiscalYear</th>\n",
       "      <th>geometry</th>\n",
       "    </tr>\n",
       "  </thead>\n",
       "  <tbody>\n",
       "    <tr>\n",
       "      <th>0</th>\n",
       "      <td>1</td>\n",
       "      <td>\"Snowflake\" Bentley -- Jericho's world famous ...</td>\n",
       "      <td>For fifty years Wilson A. Bentley, a farmer an...</td>\n",
       "      <td>None</td>\n",
       "      <td>Jericho</td>\n",
       "      <td>CHITTENDEN</td>\n",
       "      <td>Jericho Center Cir., in village</td>\n",
       "      <td>None</td>\n",
       "      <td>-72.973052</td>\n",
       "      <td>44.469608</td>\n",
       "      <td>Vermont Division for Historic Preservation</td>\n",
       "      <td>2003</td>\n",
       "      <td>2016.0</td>\n",
       "      <td>POINT (-72.97305209009137 44.46960766018835)</td>\n",
       "    </tr>\n",
       "    <tr>\n",
       "      <th>1</th>\n",
       "      <td>2</td>\n",
       "      <td>\"Vermont's First College\"</td>\n",
       "      <td>On this site Castleton State College, Vermonts...</td>\n",
       "      <td>None</td>\n",
       "      <td>Castleton</td>\n",
       "      <td>RUTLAND</td>\n",
       "      <td>VT Route 4A in front of the town library</td>\n",
       "      <td>None</td>\n",
       "      <td>-73.178299</td>\n",
       "      <td>43.611718</td>\n",
       "      <td>Vermont Division for Historic Preservation</td>\n",
       "      <td>1986</td>\n",
       "      <td>NaN</td>\n",
       "      <td>POINT (-73.17829915991881 43.61171830002038)</td>\n",
       "    </tr>\n",
       "    <tr>\n",
       "      <th>2</th>\n",
       "      <td>3</td>\n",
       "      <td>1st Normal School -- Pioneer in Teacher Training</td>\n",
       "      <td>The first recognized school in America for the...</td>\n",
       "      <td>None</td>\n",
       "      <td>Concord</td>\n",
       "      <td>ESSEX</td>\n",
       "      <td>U.S. Route 2, at Shadow Lake Road</td>\n",
       "      <td>None</td>\n",
       "      <td>-71.889163</td>\n",
       "      <td>44.428617</td>\n",
       "      <td>Vermont Historic Sites Commission</td>\n",
       "      <td>1954</td>\n",
       "      <td>NaN</td>\n",
       "      <td>POINT (-71.88916283008687 44.42861686006097)</td>\n",
       "    </tr>\n",
       "  </tbody>\n",
       "</table>\n",
       "</div>"
      ],
      "text/plain": [
       "   OBJECTID                                               name  \\\n",
       "0         1  \"Snowflake\" Bentley -- Jericho's world famous ...   \n",
       "1         2                          \"Vermont's First College\"   \n",
       "2         3   1st Normal School -- Pioneer in Teacher Training   \n",
       "\n",
       "                                          descriptio website       town  \\\n",
       "0  For fifty years Wilson A. Bentley, a farmer an...    None    Jericho   \n",
       "1  On this site Castleton State College, Vermonts...    None  Castleton   \n",
       "2  The first recognized school in America for the...    None    Concord   \n",
       "\n",
       "       county                                   address video_url  coordinate  \\\n",
       "0  CHITTENDEN           Jericho Center Cir., in village      None  -72.973052   \n",
       "1     RUTLAND  VT Route 4A in front of the town library      None  -73.178299   \n",
       "2       ESSEX         U.S. Route 2, at Shadow Lake Road      None  -71.889163   \n",
       "\n",
       "   coordina_1                                  Organizati  YearCast  \\\n",
       "0   44.469608  Vermont Division for Historic Preservation      2003   \n",
       "1   43.611718  Vermont Division for Historic Preservation      1986   \n",
       "2   44.428617           Vermont Historic Sites Commission      1954   \n",
       "\n",
       "   FiscalYear                                      geometry  \n",
       "0      2016.0  POINT (-72.97305209009137 44.46960766018835)  \n",
       "1         NaN  POINT (-73.17829915991881 43.61171830002038)  \n",
       "2         NaN  POINT (-71.88916283008687 44.42861686006097)  "
      ]
     },
     "execution_count": 6,
     "metadata": {},
     "output_type": "execute_result"
    }
   ],
   "source": [
    "pntHistMark.head(3)"
   ]
  },
  {
   "cell_type": "code",
   "execution_count": 7,
   "metadata": {},
   "outputs": [
    {
     "data": {
      "text/plain": [
       "OBJECTID        0\n",
       "name            0\n",
       "descriptio      0\n",
       "website       236\n",
       "town            0\n",
       "county          0\n",
       "address         2\n",
       "video_url     189\n",
       "coordinate      2\n",
       "coordina_1      2\n",
       "Organizati      0\n",
       "YearCast        0\n",
       "FiscalYear    197\n",
       "geometry        0\n",
       "dtype: int64"
      ]
     },
     "execution_count": 7,
     "metadata": {},
     "output_type": "execute_result"
    }
   ],
   "source": [
    "# A quick way to get a count of Nulls in the data\n",
    "pntHistMark.isnull().sum()"
   ]
  },
  {
   "cell_type": "code",
   "execution_count": 8,
   "metadata": {},
   "outputs": [
    {
     "data": {
      "text/html": [
       "<div>\n",
       "<style>\n",
       "    .dataframe thead tr:only-child th {\n",
       "        text-align: right;\n",
       "    }\n",
       "\n",
       "    .dataframe thead th {\n",
       "        text-align: left;\n",
       "    }\n",
       "\n",
       "    .dataframe tbody tr th {\n",
       "        vertical-align: top;\n",
       "    }\n",
       "</style>\n",
       "<table border=\"1\" class=\"dataframe\">\n",
       "  <thead>\n",
       "    <tr style=\"text-align: right;\">\n",
       "      <th></th>\n",
       "      <th>YearCast</th>\n",
       "      <th>name</th>\n",
       "    </tr>\n",
       "  </thead>\n",
       "  <tbody>\n",
       "    <tr>\n",
       "      <th>45</th>\n",
       "      <td>2017</td>\n",
       "      <td>2</td>\n",
       "    </tr>\n",
       "    <tr>\n",
       "      <th>44</th>\n",
       "      <td>2016</td>\n",
       "      <td>14</td>\n",
       "    </tr>\n",
       "    <tr>\n",
       "      <th>43</th>\n",
       "      <td>2015</td>\n",
       "      <td>12</td>\n",
       "    </tr>\n",
       "    <tr>\n",
       "      <th>42</th>\n",
       "      <td>2014</td>\n",
       "      <td>3</td>\n",
       "    </tr>\n",
       "    <tr>\n",
       "      <th>41</th>\n",
       "      <td>2013</td>\n",
       "      <td>10</td>\n",
       "    </tr>\n",
       "    <tr>\n",
       "      <th>40</th>\n",
       "      <td>2012</td>\n",
       "      <td>12</td>\n",
       "    </tr>\n",
       "    <tr>\n",
       "      <th>39</th>\n",
       "      <td>2011</td>\n",
       "      <td>10</td>\n",
       "    </tr>\n",
       "    <tr>\n",
       "      <th>38</th>\n",
       "      <td>2010</td>\n",
       "      <td>4</td>\n",
       "    </tr>\n",
       "    <tr>\n",
       "      <th>37</th>\n",
       "      <td>2009</td>\n",
       "      <td>1</td>\n",
       "    </tr>\n",
       "    <tr>\n",
       "      <th>36</th>\n",
       "      <td>2008</td>\n",
       "      <td>7</td>\n",
       "    </tr>\n",
       "    <tr>\n",
       "      <th>35</th>\n",
       "      <td>2007</td>\n",
       "      <td>10</td>\n",
       "    </tr>\n",
       "    <tr>\n",
       "      <th>34</th>\n",
       "      <td>2006</td>\n",
       "      <td>5</td>\n",
       "    </tr>\n",
       "    <tr>\n",
       "      <th>33</th>\n",
       "      <td>2005</td>\n",
       "      <td>5</td>\n",
       "    </tr>\n",
       "    <tr>\n",
       "      <th>32</th>\n",
       "      <td>2004</td>\n",
       "      <td>3</td>\n",
       "    </tr>\n",
       "    <tr>\n",
       "      <th>31</th>\n",
       "      <td>2003</td>\n",
       "      <td>9</td>\n",
       "    </tr>\n",
       "  </tbody>\n",
       "</table>\n",
       "</div>"
      ],
      "text/plain": [
       "    YearCast  name\n",
       "45      2017     2\n",
       "44      2016    14\n",
       "43      2015    12\n",
       "42      2014     3\n",
       "41      2013    10\n",
       "40      2012    12\n",
       "39      2011    10\n",
       "38      2010     4\n",
       "37      2009     1\n",
       "36      2008     7\n",
       "35      2007    10\n",
       "34      2006     5\n",
       "33      2005     5\n",
       "32      2004     3\n",
       "31      2003     9"
      ]
     },
     "execution_count": 8,
     "metadata": {},
     "output_type": "execute_result"
    }
   ],
   "source": [
    "# Or create counts or other mathmatical functions like in this case a count of new Roadside Marks by year\n",
    "yeargroup = pntHistMark[['name', 'YearCast']].groupby(['YearCast'], as_index=False).count().sort_values(by='YearCast',ascending=0)\n",
    "\n",
    "# View of abbreviated list\n",
    "yeargroup.head(15)"
   ]
  },
  {
   "cell_type": "code",
   "execution_count": 9,
   "metadata": {},
   "outputs": [
    {
     "name": "stdout",
     "output_type": "stream",
     "text": [
      "<class 'geopandas.geodataframe.GeoDataFrame'>\n",
      "RangeIndex: 236 entries, 0 to 235\n",
      "Data columns (total 14 columns):\n",
      "OBJECTID      236 non-null int64\n",
      "name          236 non-null object\n",
      "descriptio    236 non-null object\n",
      "website       0 non-null object\n",
      "town          236 non-null object\n",
      "county        236 non-null object\n",
      "address       234 non-null object\n",
      "video_url     47 non-null object\n",
      "coordinate    234 non-null float64\n",
      "coordina_1    234 non-null float64\n",
      "Organizati    236 non-null object\n",
      "YearCast      236 non-null int64\n",
      "FiscalYear    39 non-null float64\n",
      "geometry      236 non-null object\n",
      "dtypes: float64(3), int64(2), object(9)\n",
      "memory usage: 25.9+ KB\n"
     ]
    }
   ],
   "source": [
    "pntHistMark.info()"
   ]
  },
  {
   "cell_type": "code",
   "execution_count": 10,
   "metadata": {},
   "outputs": [
    {
     "name": "stdout",
     "output_type": "stream",
     "text": [
      "1991.6101694915253\n",
      "2002.0\n"
     ]
    }
   ],
   "source": [
    "# The mathmatical function in Pandas still apply here\n",
    "print(pntHistMark.YearCast.mean())\n",
    "print(pntHistMark.YearCast.median())"
   ]
  },
  {
   "cell_type": "markdown",
   "metadata": {},
   "source": [
    "Plotting\n",
    "-----------------\n",
    "First a quick plot of what is in both of these shape files, one is a series of lines, and the other is a set of polygon vectors. Shapely holds the power to create a variety of points, lines and polygons"
   ]
  },
  {
   "cell_type": "code",
   "execution_count": 11,
   "metadata": {},
   "outputs": [
    {
     "data": {
      "image/png": "[encoded data removed]",
      "text/plain": [
       "<matplotlib.figure.Figure at 0x2362719bfd0>"
      ]
     },
     "metadata": {},
     "output_type": "display_data"
    }
   ],
   "source": [
    "vctCntyBound.plot()\n",
    "plt.show()"
   ]
  },
  {
   "cell_type": "code",
   "execution_count": 12,
   "metadata": {},
   "outputs": [
    {
     "data": {
      "image/png": "[encoded data removed]",
      "text/plain": [
       "<matplotlib.figure.Figure at 0x23627676828>"
      ]
     },
     "metadata": {},
     "output_type": "display_data"
    }
   ],
   "source": [
    "pntHistMark.plot()\n",
    "plt.show()"
   ]
  },
  {
   "cell_type": "markdown",
   "metadata": {},
   "source": [
    "Interestingly this quickly showed an outlier in the historical marker data. In that dataset there is both coordinates and the geometry so it may be useful to use one to correct the other. Most shapefiles will only have the geometry.\n",
    "\n",
    "Coordinate Reference System (crs)\n",
    "-----------------\n",
    "Each geospatial dataset should have a coordinate system which allow you to know what datum was used. Datums are a frame of reference that relate to mathmatical models of the Earth. Knowing if two datasets are in using the same datum can be the difference between everything lining up or everything completetly off.\n",
    "\n",
    "For a fill list that can be use to decode the CRS, take a look here:http://spatialreference.org/ref/epsg/"
   ]
  },
  {
   "cell_type": "code",
   "execution_count": 13,
   "metadata": {},
   "outputs": [
    {
     "data": {
      "text/plain": [
       "{'init': 'epsg:4326'}"
      ]
     },
     "execution_count": 13,
     "metadata": {},
     "output_type": "execute_result"
    }
   ],
   "source": [
    "# current coordinate reference system\n",
    "pntHistMark.crs"
   ]
  },
  {
   "cell_type": "markdown",
   "metadata": {},
   "source": [
    "## Coordinate Transformation\n",
    "\n",
    "Sometime a CRS needs to be assigned or be changed.  Here is a simple way to do just that that, the transformation of the points happen automatically."
   ]
  },
  {
   "cell_type": "code",
   "execution_count": 14,
   "metadata": {},
   "outputs": [
    {
     "data": {
      "text/plain": [
       "{'init': 'epsg:4327', 'no_defs': True}"
      ]
     },
     "execution_count": 14,
     "metadata": {},
     "output_type": "execute_result"
    }
   ],
   "source": [
    "#create a new dataset to modify\n",
    "newdata = pntHistMark\n",
    "\n",
    "from fiona.crs import from_epsg\n",
    "\n",
    "# Set the GeoDataFrame's coordinate system to WGS84\n",
    "newdata.crs = from_epsg(4327)\n",
    "\n",
    "# verify crs definition change\n",
    "newdata.crs"
   ]
  },
  {
   "cell_type": "markdown",
   "metadata": {},
   "source": [
    "Table joins\n",
    "---------------------\n",
    "Table joins are something that is done in data science in general and the same methods used in Pandas can be applied here. In this case the two datasets don't have a common index so in this example I am going to merge based on the OBJECTID but ideally this would be a more relevant field."
   ]
  },
  {
   "cell_type": "code",
   "execution_count": 15,
   "metadata": {},
   "outputs": [
    {
     "data": {
      "text/html": [
       "<div>\n",
       "<style>\n",
       "    .dataframe thead tr:only-child th {\n",
       "        text-align: right;\n",
       "    }\n",
       "\n",
       "    .dataframe thead th {\n",
       "        text-align: left;\n",
       "    }\n",
       "\n",
       "    .dataframe tbody tr th {\n",
       "        vertical-align: top;\n",
       "    }\n",
       "</style>\n",
       "<table border=\"1\" class=\"dataframe\">\n",
       "  <thead>\n",
       "    <tr style=\"text-align: right;\">\n",
       "      <th></th>\n",
       "      <th>OBJECTID</th>\n",
       "      <th>name</th>\n",
       "      <th>descriptio</th>\n",
       "      <th>website</th>\n",
       "      <th>town</th>\n",
       "      <th>county</th>\n",
       "      <th>address</th>\n",
       "      <th>video_url</th>\n",
       "      <th>coordinate</th>\n",
       "      <th>coordina_1</th>\n",
       "      <th>...</th>\n",
       "      <th>YearCast</th>\n",
       "      <th>FiscalYear</th>\n",
       "      <th>geometry_x</th>\n",
       "      <th>RPC</th>\n",
       "      <th>INITIALS</th>\n",
       "      <th>SHORTNAME</th>\n",
       "      <th>LONGNAME</th>\n",
       "      <th>ShapeSTAre</th>\n",
       "      <th>ShapeSTLen</th>\n",
       "      <th>geometry_y</th>\n",
       "    </tr>\n",
       "  </thead>\n",
       "  <tbody>\n",
       "    <tr>\n",
       "      <th>0</th>\n",
       "      <td>1</td>\n",
       "      <td>\"Snowflake\" Bentley -- Jericho's world famous ...</td>\n",
       "      <td>For fifty years Wilson A. Bentley, a farmer an...</td>\n",
       "      <td>None</td>\n",
       "      <td>Jericho</td>\n",
       "      <td>CHITTENDEN</td>\n",
       "      <td>Jericho Center Cir., in village</td>\n",
       "      <td>None</td>\n",
       "      <td>-72.973052</td>\n",
       "      <td>44.469608</td>\n",
       "      <td>...</td>\n",
       "      <td>2003</td>\n",
       "      <td>2016.0</td>\n",
       "      <td>POINT (-72.97305209009137 44.46960766018835)</td>\n",
       "      <td>CC</td>\n",
       "      <td>CCRPC</td>\n",
       "      <td>Chittenden County RPC</td>\n",
       "      <td>Chittenden County Regional Planning Commission</td>\n",
       "      <td>1.609237e+09</td>\n",
       "      <td>201814.709240</td>\n",
       "      <td>POLYGON ((452203.9672731007 241948.2255608736,...</td>\n",
       "    </tr>\n",
       "    <tr>\n",
       "      <th>1</th>\n",
       "      <td>2</td>\n",
       "      <td>\"Vermont's First College\"</td>\n",
       "      <td>On this site Castleton State College, Vermonts...</td>\n",
       "      <td>None</td>\n",
       "      <td>Castleton</td>\n",
       "      <td>RUTLAND</td>\n",
       "      <td>VT Route 4A in front of the town library</td>\n",
       "      <td>None</td>\n",
       "      <td>-73.178299</td>\n",
       "      <td>43.611718</td>\n",
       "      <td>...</td>\n",
       "      <td>1986</td>\n",
       "      <td>NaN</td>\n",
       "      <td>POINT (-73.17829915991881 43.61171830002038)</td>\n",
       "      <td>SW</td>\n",
       "      <td>SWCRPC</td>\n",
       "      <td>Southern Windsor County RPC</td>\n",
       "      <td>Southern Windsor County Regional Planning Comm...</td>\n",
       "      <td>8.908414e+08</td>\n",
       "      <td>128848.691548</td>\n",
       "      <td>POLYGON ((497499.9973051278 114802.4954725726,...</td>\n",
       "    </tr>\n",
       "    <tr>\n",
       "      <th>2</th>\n",
       "      <td>3</td>\n",
       "      <td>1st Normal School -- Pioneer in Teacher Training</td>\n",
       "      <td>The first recognized school in America for the...</td>\n",
       "      <td>None</td>\n",
       "      <td>Concord</td>\n",
       "      <td>ESSEX</td>\n",
       "      <td>U.S. Route 2, at Shadow Lake Road</td>\n",
       "      <td>None</td>\n",
       "      <td>-71.889163</td>\n",
       "      <td>44.428617</td>\n",
       "      <td>...</td>\n",
       "      <td>1954</td>\n",
       "      <td>NaN</td>\n",
       "      <td>POINT (-71.88916283008687 44.42861686006097)</td>\n",
       "      <td>BC</td>\n",
       "      <td>BCRC</td>\n",
       "      <td>Bennington County RC</td>\n",
       "      <td>Bennington County Regional Commission</td>\n",
       "      <td>1.488553e+09</td>\n",
       "      <td>203533.897896</td>\n",
       "      <td>POLYGON ((451638.0272736274 89835.76545525473,...</td>\n",
       "    </tr>\n",
       "    <tr>\n",
       "      <th>3</th>\n",
       "      <td>4</td>\n",
       "      <td>2nd Vermont Volunteer Infantry Regiment</td>\n",
       "      <td>On June 24, 1861, the first Vermont soldiers w...</td>\n",
       "      <td>None</td>\n",
       "      <td>Burlington</td>\n",
       "      <td>CHITTENDEN</td>\n",
       "      <td>North Avenue in Battery Park</td>\n",
       "      <td>None</td>\n",
       "      <td>-73.220763</td>\n",
       "      <td>44.481325</td>\n",
       "      <td>...</td>\n",
       "      <td>2011</td>\n",
       "      <td>NaN</td>\n",
       "      <td>POINT (-73.22076252968733 44.48132500982513)</td>\n",
       "      <td>NW</td>\n",
       "      <td>NWRPC</td>\n",
       "      <td>Northwest RPC</td>\n",
       "      <td>Northwest Regional Planning Commission</td>\n",
       "      <td>2.285635e+09</td>\n",
       "      <td>242793.916924</td>\n",
       "      <td>POLYGON ((460860.0944790148 279521.6205874127,...</td>\n",
       "    </tr>\n",
       "    <tr>\n",
       "      <th>4</th>\n",
       "      <td>5</td>\n",
       "      <td>A.W.Gray &amp; Sons</td>\n",
       "      <td>Near this site Albert W. Gray manufactured his...</td>\n",
       "      <td>None</td>\n",
       "      <td>Middletown Springs</td>\n",
       "      <td>RUTLAND</td>\n",
       "      <td>Route 133A and Montvert Rd.</td>\n",
       "      <td>None</td>\n",
       "      <td>-73.118337</td>\n",
       "      <td>43.482350</td>\n",
       "      <td>...</td>\n",
       "      <td>1998</td>\n",
       "      <td>NaN</td>\n",
       "      <td>POINT (-73.11833662009371 43.482349910201)</td>\n",
       "      <td>LC</td>\n",
       "      <td>LCPC</td>\n",
       "      <td>Lamoille County PC</td>\n",
       "      <td>Lamoille County Planning Commission</td>\n",
       "      <td>1.207382e+09</td>\n",
       "      <td>166207.247550</td>\n",
       "      <td>POLYGON ((491679.967300891 254475.715569835, 4...</td>\n",
       "    </tr>\n",
       "  </tbody>\n",
       "</table>\n",
       "<p>5 rows × 21 columns</p>\n",
       "</div>"
      ],
      "text/plain": [
       "   OBJECTID                                               name  \\\n",
       "0         1  \"Snowflake\" Bentley -- Jericho's world famous ...   \n",
       "1         2                          \"Vermont's First College\"   \n",
       "2         3   1st Normal School -- Pioneer in Teacher Training   \n",
       "3         4            2nd Vermont Volunteer Infantry Regiment   \n",
       "4         5                                    A.W.Gray & Sons   \n",
       "\n",
       "                                          descriptio website  \\\n",
       "0  For fifty years Wilson A. Bentley, a farmer an...    None   \n",
       "1  On this site Castleton State College, Vermonts...    None   \n",
       "2  The first recognized school in America for the...    None   \n",
       "3  On June 24, 1861, the first Vermont soldiers w...    None   \n",
       "4  Near this site Albert W. Gray manufactured his...    None   \n",
       "\n",
       "                 town      county                                   address  \\\n",
       "0             Jericho  CHITTENDEN           Jericho Center Cir., in village   \n",
       "1           Castleton     RUTLAND  VT Route 4A in front of the town library   \n",
       "2             Concord       ESSEX         U.S. Route 2, at Shadow Lake Road   \n",
       "3          Burlington  CHITTENDEN              North Avenue in Battery Park   \n",
       "4  Middletown Springs     RUTLAND               Route 133A and Montvert Rd.   \n",
       "\n",
       "  video_url  coordinate  coordina_1  \\\n",
       "0      None  -72.973052   44.469608   \n",
       "1      None  -73.178299   43.611718   \n",
       "2      None  -71.889163   44.428617   \n",
       "3      None  -73.220763   44.481325   \n",
       "4      None  -73.118337   43.482350   \n",
       "\n",
       "                         ...                         YearCast  FiscalYear  \\\n",
       "0                        ...                             2003      2016.0   \n",
       "1                        ...                             1986         NaN   \n",
       "2                        ...                             1954         NaN   \n",
       "3                        ...                             2011         NaN   \n",
       "4                        ...                             1998         NaN   \n",
       "\n",
       "                                     geometry_x RPC INITIALS  \\\n",
       "0  POINT (-72.97305209009137 44.46960766018835)  CC    CCRPC   \n",
       "1  POINT (-73.17829915991881 43.61171830002038)  SW   SWCRPC   \n",
       "2  POINT (-71.88916283008687 44.42861686006097)  BC     BCRC   \n",
       "3  POINT (-73.22076252968733 44.48132500982513)  NW    NWRPC   \n",
       "4    POINT (-73.11833662009371 43.482349910201)  LC     LCPC   \n",
       "\n",
       "                     SHORTNAME  \\\n",
       "0        Chittenden County RPC   \n",
       "1  Southern Windsor County RPC   \n",
       "2         Bennington County RC   \n",
       "3                Northwest RPC   \n",
       "4           Lamoille County PC   \n",
       "\n",
       "                                            LONGNAME    ShapeSTAre  \\\n",
       "0     Chittenden County Regional Planning Commission  1.609237e+09   \n",
       "1  Southern Windsor County Regional Planning Comm...  8.908414e+08   \n",
       "2              Bennington County Regional Commission  1.488553e+09   \n",
       "3             Northwest Regional Planning Commission  2.285635e+09   \n",
       "4                Lamoille County Planning Commission  1.207382e+09   \n",
       "\n",
       "      ShapeSTLen                                         geometry_y  \n",
       "0  201814.709240  POLYGON ((452203.9672731007 241948.2255608736,...  \n",
       "1  128848.691548  POLYGON ((497499.9973051278 114802.4954725726,...  \n",
       "2  203533.897896  POLYGON ((451638.0272736274 89835.76545525473,...  \n",
       "3  242793.916924  POLYGON ((460860.0944790148 279521.6205874127,...  \n",
       "4  166207.247550  POLYGON ((491679.967300891 254475.715569835, 4...  \n",
       "\n",
       "[5 rows x 21 columns]"
      ]
     },
     "execution_count": 15,
     "metadata": {},
     "output_type": "execute_result"
    }
   ],
   "source": [
    "join = pntHistMark.merge(vctCntyBound, on='OBJECTID')\n",
    "join.head(5)"
   ]
  },
  {
   "cell_type": "markdown",
   "metadata": {},
   "source": [
    "## Point in Polygon & Intersect\n",
    "\n",
    "Often GIS will have a mx of points, lines and shapes. Determining if a point, i.e. a road marker, is within a shape, i.e. town boundries, can be quite useful and there are some built in functions in Shapely to do just that. Performing a spatial join (this will be a seperate notebook) between two spatial datasets is one of the most typical applications where Point in Polygon (PIP) query is used\n",
    "\n",
    "There are basically two ways of conducting PIP in Shapely:\n",
    "* using a function called .within() that checks if a point is within a polygon\n",
    "* using a function called .contains() that checks if a polygon contains a point\n"
   ]
  },
  {
   "cell_type": "code",
   "execution_count": 16,
   "metadata": {
    "collapsed": true
   },
   "outputs": [],
   "source": [
    "from shapely.geometry import Point, Polygon\n",
    "\n",
    "# Create Point objects\n",
    "p1 = Point(24.952242, 60.1696017)\n",
    "p2 = Point(24.976567, 60.1612500)\n",
    "\n",
    "# Create a Polygon\n",
    "coords = [(24.950899, 60.169158), (24.953492, 60.169158), (24.953510, 60.170104), (24.950958, 60.169990)]\n",
    "poly = Polygon(coords)"
   ]
  },
  {
   "cell_type": "code",
   "execution_count": 17,
   "metadata": {},
   "outputs": [
    {
     "name": "stdout",
     "output_type": "stream",
     "text": [
      "True\n",
      "False\n"
     ]
    }
   ],
   "source": [
    "# Is p1 in the polygon\n",
    "print(p1.within(poly))\n",
    "# Is p1 in the polygon\n",
    "print(p2.within(poly))"
   ]
  },
  {
   "cell_type": "code",
   "execution_count": 18,
   "metadata": {
    "scrolled": true
   },
   "outputs": [
    {
     "name": "stdout",
     "output_type": "stream",
     "text": [
      "True\n",
      "False\n"
     ]
    }
   ],
   "source": [
    "# Does polygon contain p1?\n",
    "print(poly.contains(p1))\n",
    "# Does polygon contain p2?\n",
    "print(poly.contains(p2))"
   ]
  },
  {
   "cell_type": "markdown",
   "metadata": {},
   "source": [
    "## Intersect\n",
    "\n",
    "Another typical geospatial operation is to see if a geometry intersect or touches another one. The difference between these two is that:\n",
    "* if objects intersect, the boundary and interior of an object needs to intersect in any way with those of the other.\n",
    "* if an object touches the other one, it is only necessary to have (at least) a single point of their boundaries in common but their interiors shoud NOT intersect."
   ]
  },
  {
   "cell_type": "code",
   "execution_count": 19,
   "metadata": {
    "collapsed": true
   },
   "outputs": [],
   "source": [
    "from shapely.geometry import LineString, MultiLineString\n",
    "\n",
    "# Create two lines\n",
    "line_a = LineString([(0, 0), (1, 1)])\n",
    "line_b = LineString([(1, 1), (0, 2)])"
   ]
  },
  {
   "cell_type": "code",
   "execution_count": 20,
   "metadata": {},
   "outputs": [
    {
     "data": {
      "text/plain": [
       "True"
      ]
     },
     "execution_count": 20,
     "metadata": {},
     "output_type": "execute_result"
    }
   ],
   "source": [
    "line_a.intersects(line_b)"
   ]
  },
  {
   "cell_type": "code",
   "execution_count": 21,
   "metadata": {},
   "outputs": [
    {
     "data": {
      "text/plain": [
       "True"
      ]
     },
     "execution_count": 21,
     "metadata": {},
     "output_type": "execute_result"
    }
   ],
   "source": [
    "line_a.touches(line_b)"
   ]
  },
  {
   "cell_type": "code",
   "execution_count": 22,
   "metadata": {},
   "outputs": [
    {
     "data": {
      "text/plain": [
       "True"
      ]
     },
     "execution_count": 22,
     "metadata": {},
     "output_type": "execute_result"
    }
   ],
   "source": [
    "# Does the line intersect with itself?\n",
    "line_a.intersects(line_a)"
   ]
  },
  {
   "cell_type": "markdown",
   "metadata": {},
   "source": [
    "## Summary\n",
    "\n",
    "This is just an introduction to Geopandas, there are a lot of applications and libraries that can be explored. I again will strongly recommend this link for a more comprehensive walkthrough: https://automating-gis-processes.github.io/2016/Lesson1-Intro-Python-GIS.html. The power in using Python and R is the scalability with large datasets and by their nature, most of GIS is made of big data. Explore and share!"
   ]
  }
 ],
 "metadata": {
  "kernelspec": {
   "display_name": "Python 3",
   "language": "python",
   "name": "python3"
  },
  "language_info": {
   "codemirror_mode": {
    "name": "ipython",
    "version": 3
   },
   "file_extension": ".py",
   "mimetype": "text/x-python",
   "name": "python",
   "nbconvert_exporter": "python",
   "pygments_lexer": "ipython3",
   "version": "3.6.1"
  }
 },
 "nbformat": 4,
 "nbformat_minor": 2
}
